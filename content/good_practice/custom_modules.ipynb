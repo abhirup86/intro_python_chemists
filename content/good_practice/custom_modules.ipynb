{
 "cells": [
  {
   "cell_type": "markdown",
   "metadata": {},
   "source": [
    "# Custom Modules"
   ]
  },
  {
   "cell_type": "markdown",
   "metadata": {},
   "source": [
    "### Pre-requisites\n",
    "\n",
    "* functions\n",
    "* types\n",
    "* collections\n",
    "* packages"
   ]
  },
  {
   "cell_type": "markdown",
   "metadata": {},
   "source": [
    "# Modules\n",
    "\n",
    "Instead of creating one large piece of code that can often be unwieldy we can break it up into smaller chunks, or modules. Modules can be accessed through installed packages or they can written by the user. "
   ]
  },
  {
   "cell_type": "markdown",
   "metadata": {},
   "source": [
    "## Custom Modules"
   ]
  },
  {
   "cell_type": "markdown",
   "metadata": {},
   "source": [
    "Below is an example of a custom module (i.e. one we have written ourselves) called `print_things.py`:"
   ]
  },
  {
   "cell_type": "markdown",
   "metadata": {},
   "source": [
    "```python\n",
    "def print_names(list_of_names):\n",
    "    for name in list_of_names:\n",
    "        print(name)\n",
    "\n",
    "def print_dictionary(input_dictionary):\n",
    "    for key, value in input_dictionary.items():\n",
    "        print(\"Key: \" + key + \", Value: \" + str(value))\n",
    "```"
   ]
  },
  {
   "cell_type": "markdown",
   "metadata": {},
   "source": [
    "Here, `print_things.py` contains the objects:\n",
    "\n",
    "* `print_names()` \n",
    "* `print_dictionary()`\n",
    "\n",
    "which are both functions."
   ]
  },
  {
   "cell_type": "markdown",
   "metadata": {},
   "source": [
    "Great! We have made our module, but how can we go about using it? \n",
    "\n",
    "Python makes this really simple with the `import` statement. "
   ]
  },
  {
   "cell_type": "markdown",
   "metadata": {},
   "source": [
    "## Importing Modules\n",
    "\n"
   ]
  },
  {
   "cell_type": "markdown",
   "metadata": {},
   "source": [
    "In order to use our newly created module we need to `import` it into our main script:\n",
    "\n",
    "```python\n",
    "import print_things\n",
    "```\n",
    "\n",
    "Now, we can access the objects in the `print_things` module:\n",
    "\n",
    "\n",
    "\n",
    "\n"
   ]
  },
  {
   "cell_type": "code",
   "execution_count": null,
   "metadata": {},
   "outputs": [],
   "source": [
    "import print_things\n",
    "\n",
    "\n",
    "element_names = [\"Hydrogen\", \"Helium\", \"Lithium\"]\n",
    "element_protons = {\"Hydrogen\": 1, \"Helium\": 2, \"Lithium\": 3}\n",
    "\n",
    "print_things.print_names(element_names)\n",
    "\n",
    "print_things.print_dictionary(element_protons)"
   ]
  },
  {
   "cell_type": "markdown",
   "metadata": {},
   "source": [
    "An alternative to using `import` is to use the `from` statement. This allows us to select certain objects from our module rather than importing all of them in one go:"
   ]
  },
  {
   "cell_type": "code",
   "execution_count": null,
   "metadata": {},
   "outputs": [],
   "source": [
    "from print_things import print_names\n",
    "\n",
    "\n",
    "element_names = [\"Hydrogen\", \"Helium\", \"Lithium\"]\n",
    "\n",
    "print_things.print_names(element_names)"
   ]
  },
  {
   "cell_type": "markdown",
   "metadata": {},
   "source": [
    "However, if we do want to `import` all objects in our `print_things` module with the `from` statement we can do so like this:\n",
    "\n",
    "```python\n",
    "from print_things import *\n",
    "```\n",
    "\n",
    "Using this style of import, if there are any modules that we don't want to be imported (i.e. that we only want to be used within the module itself), we can prefix them with an underscore (`_`).\n",
    "\n",
    "```python\n",
    "def print_names(list_of_names):\n",
    "    for name in list_of_names:\n",
    "        print(name)\n",
    "\n",
    "def print_dictionary(input_dictionary):\n",
    "    for key, value in input_dictionary.items():\n",
    "        print(\"Key: \" + key + \", Value: \" + str(value))\n",
    "\n",
    "def _private_function():\n",
    "    print(\"I'm a private function!\")\n",
    "```\n",
    "\n",
    "Here, `_private_function()` can only be used within the `print_things.py` module. We can test this by importing the `print_things.py` module and trying to use it:"
   ]
  },
  {
   "cell_type": "code",
   "execution_count": null,
   "metadata": {},
   "outputs": [],
   "source": [
    "#  Import all of the functions from the print_things.py module\n",
    "from print_things import *\n",
    "\n",
    "element_names = [\"Hydrogen\", \"Helium\", \"Lithium\"]\n",
    "\n",
    "#  Use the print_names() function \n",
    "print_names(element_names)\n",
    "\n",
    "#  Use the _private_function()\n",
    "_private_function()"
   ]
  },
  {
   "cell_type": "markdown",
   "metadata": {},
   "source": [
    "This can be avoided by importing the module in the normal way:"
   ]
  },
  {
   "cell_type": "code",
   "execution_count": null,
   "metadata": {},
   "outputs": [],
   "source": [
    "#  Import all of the functions from the print_things.py module\n",
    "import print_things\n",
    "\n",
    "element_names = [\"Hydrogen\", \"Helium\", \"Lithium\"]\n",
    "\n",
    "#  Use the print_names() function \n",
    "print_things.print_names(element_names)\n",
    "\n",
    "#  Use the _private_function()\n",
    "print_things._private_function()"
   ]
  },
  {
   "cell_type": "markdown",
   "metadata": {},
   "source": [
    "Another useful way to use both the `import` / `from` statements is to `import` modules and use an alternative name:\n",
    "\n",
    "```python\n",
    "from print_things import print_names as pn #  Import print_names from the print_things module \n",
    "import print_things as pt #  Import the whole print_things module\n",
    "``` "
   ]
  },
  {
   "cell_type": "markdown",
   "metadata": {},
   "source": [
    "## Organising Modules: Packages"
   ]
  },
  {
   "cell_type": "markdown",
   "metadata": {},
   "source": [
    "As a project grows, the number of individual modules may increase and can often be hard to manage. This is where Python packages come in. \n",
    "\n",
    "Packages are collections of modules contained within a directory. However, in order to make sure this directory is recognised as a package it needs to contain a file named `__init__.py`, this allows it to be imported (just like the `print_things.py` module we created earlier)."
   ]
  },
  {
   "cell_type": "markdown",
   "metadata": {},
   "source": [
    "For example if we had a package called `pkg` that contained two modules we will name `module2.py` and `module1.py` we could `import` them as:\n",
    "\n",
    "```python\n",
    "import pkg.module1, pkg.module2\n",
    "```"
   ]
  },
  {
   "cell_type": "markdown",
   "metadata": {},
   "source": [
    "### Location"
   ]
  },
  {
   "cell_type": "markdown",
   "metadata": {},
   "source": [
    "An important point that applies to packages (and by extension modules) is their location. Most of the time a package manager will sort out the location of installed packages so they are useable. Additionally, Python will also look in your current working directory for any [custom packages](https://pythoninchemistry.org/intro_python_chemists/advanced/custom_packages.html). \n"
   ]
  },
  {
   "cell_type": "code",
   "execution_count": null,
   "metadata": {},
   "outputs": [],
   "source": []
  }
 ],
 "metadata": {
  "kernelspec": {
   "display_name": "Python 3.7.3 64-bit",
   "language": "python",
   "name": "python37364bitd38a54fb656a4d2291427feb2f9b7184"
  },
  "language_info": {
   "codemirror_mode": {
    "name": "ipython",
    "version": 3
   },
   "file_extension": ".py",
   "mimetype": "text/x-python",
   "name": "python",
   "nbconvert_exporter": "python",
   "pygments_lexer": "ipython3",
   "version": "3.7.3-final"
  }
 },
 "nbformat": 4,
 "nbformat_minor": 2
}