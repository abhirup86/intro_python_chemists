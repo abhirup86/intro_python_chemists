{
 "cells": [
  {
   "cell_type": "markdown",
   "metadata": {},
   "source": [
    "# Statistical analysis\n",
    "\n",
    "Prerequesites:\n",
    "\n",
    "- NumPy arrays\n",
    "- Types\n",
    "- matplotlib\n",
    "- libraries"
   ]
  },
  {
   "cell_type": "code",
   "execution_count": 1,
   "metadata": {},
   "outputs": [],
   "source": [
    "import numpy as np\n",
    "import matplotlib.pyplot as plt\n",
    "from scipy import stats"
   ]
  },
  {
   "cell_type": "markdown",
   "metadata": {},
   "source": [
    "Statistics in an important tool in the analysis of chemical data. \n",
    "In this section, we will introduce some simple aspects of statistical analysis, focusing on how it can be used in interpret chemical measurements. \n",
    "\n",
    "Consider the measurement of the rate of some chemical reaction at 300 K. \n",
    "In order to be thorough, this measurement is completed multiple times (say five), and the values are given in the array below. "
   ]
  },
  {
   "cell_type": "code",
   "execution_count": 2,
   "metadata": {},
   "outputs": [],
   "source": [
    "# Some reaction rate data\n",
    "k_300 = np.array([1.331, 1.313, 1.317, 1.323, 1.217])"
   ]
  },
  {
   "cell_type": "markdown",
   "metadata": {},
   "source": [
    "If we assume that these values are some sample of an underlying normally distributed population, then we can describe the reaction rate with a mean and standard deviation. "
   ]
  },
  {
   "cell_type": "code",
   "execution_count": 3,
   "metadata": {},
   "outputs": [
    {
     "name": "stdout",
     "output_type": "stream",
     "text": [
      "mean = 1.300, std_dev = 0.042\n"
     ]
    }
   ],
   "source": [
    "# Using numpy to calculate the mean and standard deviation\n",
    "print(\"mean = {:.3f}, std_dev = {:.3f}\".format(np.mean(k_300), np.std(k_300)))"
   ]
  },
  {
   "cell_type": "markdown",
   "metadata": {},
   "source": [
    "Above, we added some phrases that may be unfamiliar to the typical chemist, so let clarify things a bit: \n",
    "\n",
    "- the **population** is all of elements for a set of data\n",
    "- a **sample** is some subset of that data\n",
    "- a [**normal distribution**](https://en.wikipedia.org/wiki/Normal_distribution) common way that a population can be distributed (and is commonly used for measurement uncertainties)\n",
    "\n",
    "An example of a normal distribution, that we think (if we assume that the samples we have are representative of the population) describes our measurements is shown below."
   ]
  },
  {
   "cell_type": "code",
   "execution_count": 4,
   "metadata": {},
   "outputs": [
    {
     "data": {
      "image/png": "[encoded data removed]",
      "text/plain": [
       "<Figure size 432x288 with 1 Axes>"
      ]
     },
     "metadata": {
      "needs_background": "light"
     },
     "output_type": "display_data"
    }
   ],
   "source": [
    "# Generate linearly spaced x values\n",
    "x = np.linspace(1.1, 1.5, 100)\n",
    "# Calculate the distribution probability at each x\n",
    "y = stats.norm.pdf(x, loc=np.mean(k_300), scale=np.std(k_300))\n",
    "\n",
    "# Plot\n",
    "plt.plot(x, y)\n",
    "plt.xlabel('k')\n",
    "plt.ylabel('p(k)')\n",
    "plt.show()"
   ]
  },
  {
   "cell_type": "markdown",
   "metadata": {},
   "source": [
    "This plot gives the relative likelihood that a particular value of $k$ would be measured. \n",
    "We can think of this as, if we measured infinite values of $k$ at 300 K the histogram of the results would look like this. \n",
    "\n",
    "To generate the plot above, we used a special type of object from the `scipy` library. \n",
    "This is called a [`rv_continuous`](https://docs.scipy.org/doc/scipy/reference/stats.html) object, in particular, we used the `norm` version (for normal). \n",
    "\n",
    "These objects allow for a vast amount of functionality associated with probability distributions. \n",
    "Let's take a closer look at the `stats.norm` object. \n",
    "This is a [class](./../basics/oop_intro.html), so can be defined as follows,"
   ]
  },
  {
   "cell_type": "code",
   "execution_count": 5,
   "metadata": {},
   "outputs": [],
   "source": [
    "dist = stats.norm(loc=np.mean(k_300), scale=np.std(k_300))"
   ]
  },
  {
   "cell_type": "markdown",
   "metadata": {},
   "source": [
    "With this object created, we can get the probability at a series of values `pdf(x)` or some number of random numbers from the distribution `rvs()` as shown below to create the histogram and plot over it. "
   ]
  },
  {
   "cell_type": "code",
   "execution_count": 6,
   "metadata": {},
   "outputs": [
    {
     "data": {
      "image/png": "[encoded data removed]",
      "text/plain": [
       "<Figure size 432x288 with 1 Axes>"
      ]
     },
     "metadata": {
      "needs_background": "light"
     },
     "output_type": "display_data"
    }
   ],
   "source": [
    "# Generate 5000 random numbers\n",
    "values = dist.rvs(5000)\n",
    "# Plot a histogram\n",
    "plt.hist(values, density=True, bins=50)\n",
    "# Use min and max of random numbers to create a range\n",
    "x = np.linspace(values.min(), values.max(), 100)\n",
    "# Plot the probability in that range\n",
    "plt.plot(x, dist.pdf(x))\n",
    "plt.show()"
   ]
  },
  {
   "cell_type": "markdown",
   "metadata": {},
   "source": [
    "We can also fit some statistical function to a set of data, for example with the `norm` distribution."
   ]
  },
  {
   "cell_type": "code",
   "execution_count": 7,
   "metadata": {},
   "outputs": [
    {
     "data": {
      "text/plain": [
       "(1.3002000000000002, 0.04203998097049992)"
      ]
     },
     "execution_count": 7,
     "metadata": {},
     "output_type": "execute_result"
    }
   ],
   "source": [
    "stats.norm.fit(k_300)"
   ]
  },
  {
   "cell_type": "markdown",
   "metadata": {},
   "source": [
    "Notice that the values are the same as above, the mean and standard deviation.\n",
    "This fitting can be performed using any of the statistical functions included in `scipy`. "
   ]
  }
 ],
 "metadata": {
  "kernelspec": {
   "display_name": "Python 3",
   "language": "python",
   "name": "python3"
  },
  "language_info": {
   "codemirror_mode": {
    "name": "ipython",
    "version": 3
   },
   "file_extension": ".py",
   "mimetype": "text/x-python",
   "name": "python",
   "nbconvert_exporter": "python",
   "pygments_lexer": "ipython3",
   "version": "3.7.6"
  }
 },
 "nbformat": 4,
 "nbformat_minor": 4
}
